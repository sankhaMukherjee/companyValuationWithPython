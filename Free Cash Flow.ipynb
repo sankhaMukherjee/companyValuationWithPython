{
 "cells": [
  {
   "cell_type": "markdown",
   "metadata": {},
   "source": [
    "# The Discounted Cash Flow (DCF) model\n",
    "\n",
    "This Notebook will be used for calculating the Discounted Cash Flow (DCF) model as described in the Medium Post [Sure you know the stock price. But do you know its value?](https://medium.com/@sankha.mukherjee_007/sure-you-know-the-stock-price-but-do-you-know-its-value-65ab44dadd04) in Section 4.2. There are many versions of this model, and this implementation here is one of the more simpler implementations of the DCF model. \n",
    "\n",
    "This implementation will be as close as possible to the original article so that one is able to easily follow the original article and this one."
   ]
  },
  {
   "cell_type": "code",
   "execution_count": 1,
   "metadata": {
    "ExecuteTime": {
     "end_time": "2020-08-22T08:04:18.050402Z",
     "start_time": "2020-08-22T08:04:17.626140Z"
    }
   },
   "outputs": [],
   "source": [
    "import financeMacroFactors as fM\n",
    "import pandas as pd\n",
    "import numpy as np\n",
    "from scipy import interpolate\n",
    "from datetime import timedelta as tDel\n",
    "import matplotlib.pyplot as plt"
   ]
  },
  {
   "cell_type": "code",
   "execution_count": 2,
   "metadata": {
    "ExecuteTime": {
     "end_time": "2020-08-22T08:04:27.104682Z",
     "start_time": "2020-08-22T08:04:19.972851Z"
    }
   },
   "outputs": [],
   "source": [
    "fundamentals = fM.companies.getTickerFundamentalDataMW('MSFT')"
   ]
  },
  {
   "cell_type": "markdown",
   "metadata": {},
   "source": [
    "## Find the Earnings Per Share (Free Cash Flow)\n",
    "\n",
    "The following things need to be extracted form the fundamental data:\n",
    " - Free Cash Flow vector **f** over the last 5 years. This is converted into a Numpy array `f1`.\n",
    " - The number of shares outstanding **s** over the alst 5 years. This is put into the Numpy array `s`\n",
    " - The FCF/share. This is put into the Numpy array `f_s`\n",
    "\n",
    "### Calculating the `f1`:"
   ]
  },
  {
   "cell_type": "code",
   "execution_count": 10,
   "metadata": {
    "ExecuteTime": {
     "end_time": "2020-08-22T08:34:05.577771Z",
     "start_time": "2020-08-22T08:34:05.571152Z"
    }
   },
   "outputs": [
    {
     "name": "stdout",
     "output_type": "stream",
     "text": [
      "--------[Free Cash Flow]------------\n",
      "Years: [2016, 2017, 2018, 2019, 2020]\n",
      "FCF during that time: f1 = [2.498e+10 3.138e+10 3.225e+10 3.826e+10 4.523e+10]\n"
     ]
    }
   ],
   "source": [
    "fcf = fM.companies.extractYearlyData(fundamentals['CashFlow'], 'Free Cash Flow')\n",
    "y, f1 = zip(*fcf)\n",
    "f1 = np.array(f1)\n",
    "print(f'--------[Free Cash Flow]------------')\n",
    "print(f'Years: {[m.year for m in y]}')\n",
    "print(f'FCF during that time: f1 = {f1}')"
   ]
  },
  {
   "cell_type": "markdown",
   "metadata": {},
   "source": [
    "### Calculating the `s`"
   ]
  },
  {
   "cell_type": "code",
   "execution_count": 9,
   "metadata": {
    "ExecuteTime": {
     "end_time": "2020-08-22T08:33:15.437817Z",
     "start_time": "2020-08-22T08:33:15.431492Z"
    }
   },
   "outputs": [
    {
     "name": "stdout",
     "output_type": "stream",
     "text": [
      "--------[Diluted shares Outstanding]------------\n",
      "Years: [2016, 2017, 2018, 2019, 2020]\n",
      "Diluted shares outstanding: s = [8.01e+09 7.83e+09 7.79e+09 7.75e+09 7.68e+09]\n"
     ]
    }
   ],
   "source": [
    "shares = fM.companies.extractYearlyData(fundamentals['IncomeStatement'], 'Diluted Shares Outstanding')\n",
    "shares\n",
    "ya, s = zip(*shares)\n",
    "s = np.array(s)\n",
    "print(f'--------[Diluted shares Outstanding]------------')\n",
    "print(f'Years: {[m.year for m in ya]}')\n",
    "print(f'Diluted shares outstanding: s = {s}')"
   ]
  },
  {
   "cell_type": "markdown",
   "metadata": {},
   "source": [
    "### Calculating the `f_s`:"
   ]
  },
  {
   "cell_type": "code",
   "execution_count": 14,
   "metadata": {
    "ExecuteTime": {
     "end_time": "2020-08-22T08:41:20.844348Z",
     "start_time": "2020-08-22T08:41:20.842022Z"
    }
   },
   "outputs": [
    {
     "name": "stdout",
     "output_type": "stream",
     "text": [
      "FCF per share over the last few years = [3.11860175 4.00766284 4.13992298 4.93677419 5.88932292]\n"
     ]
    }
   ],
   "source": [
    "f_s1 = f1/s\n",
    "print(f'FCF per share over the last few years = {f_s1}')"
   ]
  },
  {
   "cell_type": "markdown",
   "metadata": {},
   "source": [
    "## Extrapolate so that we can find the FCF/share for the next 5 years\n",
    "\n",
    "The extrapolation is simple. This assumes that there are 365 days in each year. This may not be the case, but should not affect our calculations significantly, gven the type of approximations that are already involved."
   ]
  },
  {
   "cell_type": "code",
   "execution_count": 23,
   "metadata": {
    "ExecuteTime": {
     "end_time": "2020-08-22T08:43:14.069247Z",
     "start_time": "2020-08-22T08:43:14.065798Z"
    }
   },
   "outputs": [],
   "source": [
    "xVals = [(m-y[0]).days for m in y ]\n",
    "futureYears = [ (y[-1] + tDel(i*365) ) for i in range(1,6)]\n",
    "xExt  = [(m-y[0]).days for m in futureYears ]\n",
    "f = interpolate.interp1d(xVals, f_s1, fill_value=\"extrapolate\")\n",
    "f_s = f(xExt)"
   ]
  },
  {
   "cell_type": "code",
   "execution_count": 17,
   "metadata": {
    "ExecuteTime": {
     "end_time": "2020-08-22T08:41:43.729866Z",
     "start_time": "2020-08-22T08:41:43.614613Z"
    }
   },
   "outputs": [
    {
     "data": {
      "image/png": "[encoded data removed]",
      "text/plain": [
       "<Figure size 288x177.998 with 1 Axes>"
      ]
     },
     "metadata": {
      "needs_background": "light"
     },
     "output_type": "display_data"
    }
   ],
   "source": [
    "plt.figure(figsize=(4, 4/1.618))\n",
    "plt.axes([0.1, 0.1, 0.89, 0.89])\n",
    "\n",
    "plt.plot(y, f_s1, 's', label='known')\n",
    "plt.plot(futureYears, f_s, 's', label='interpolated')\n",
    "\n",
    "\n",
    "plt.xticks(rotation=30)\n",
    "plt.xlabel('years')\n",
    "plt.ylabel('EPS')\n",
    "plt.legend()\n",
    "\n",
    "plt.show()\n",
    "plt.close('all')"
   ]
  },
  {
   "cell_type": "markdown",
   "metadata": {},
   "source": [
    "## Add the terminal value\n",
    "\n",
    "for the last interpolated value, change it to 10$\\times$ its projexted value"
   ]
  },
  {
   "cell_type": "code",
   "execution_count": 24,
   "metadata": {
    "ExecuteTime": {
     "end_time": "2020-08-22T08:43:16.593578Z",
     "start_time": "2020-08-22T08:43:16.590405Z"
    }
   },
   "outputs": [
    {
     "data": {
      "text/plain": [
       "array([  6.83926905,   7.78921518,   8.73916131,   9.68910744,\n",
       "       106.39053572])"
      ]
     },
     "execution_count": 24,
     "metadata": {},
     "output_type": "execute_result"
    }
   ],
   "source": [
    "f_s[-1] *= 10\n",
    "f_s"
   ]
  },
  {
   "cell_type": "markdown",
   "metadata": {},
   "source": [
    "## Generate the discounting factors"
   ]
  },
  {
   "cell_type": "code",
   "execution_count": 25,
   "metadata": {
    "ExecuteTime": {
     "end_time": "2020-08-22T08:43:21.650647Z",
     "start_time": "2020-08-22T08:43:21.645501Z"
    }
   },
   "outputs": [],
   "source": [
    "d = (np.ones(5)*1.1)**np.arange(-1,-6, -1)"
   ]
  },
  {
   "cell_type": "markdown",
   "metadata": {},
   "source": [
    "## Generate the DCF value"
   ]
  },
  {
   "cell_type": "code",
   "execution_count": 26,
   "metadata": {
    "ExecuteTime": {
     "end_time": "2020-08-22T08:43:25.592823Z",
     "start_time": "2020-08-22T08:43:25.590524Z"
    }
   },
   "outputs": [
    {
     "name": "stdout",
     "output_type": "stream",
     "text": [
      "Discounted Future Value = $91.90\n"
     ]
    }
   ],
   "source": [
    "dcf = f_s @ d\n",
    "print(f'Discounted Future Value = ${dcf:.2f}')"
   ]
  },
  {
   "cell_type": "code",
   "execution_count": null,
   "metadata": {},
   "outputs": [],
   "source": []
  }
 ],
 "metadata": {
  "hide_input": false,
  "kernelspec": {
   "display_name": "Python 3",
   "language": "python",
   "name": "python3"
  },
  "language_info": {
   "codemirror_mode": {
    "name": "ipython",
    "version": 3
   },
   "file_extension": ".py",
   "mimetype": "text/x-python",
   "name": "python",
   "nbconvert_exporter": "python",
   "pygments_lexer": "ipython3",
   "version": "3.8.2"
  },
  "toc": {
   "base_numbering": 1,
   "nav_menu": {},
   "number_sections": true,
   "sideBar": true,
   "skip_h1_title": false,
   "title_cell": "Table of Contents",
   "title_sidebar": "Contents",
   "toc_cell": false,
   "toc_position": {},
   "toc_section_display": true,
   "toc_window_display": false
  }
 },
 "nbformat": 4,
 "nbformat_minor": 4
}
