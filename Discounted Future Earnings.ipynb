{
 "cells": [
  {
   "cell_type": "markdown",
   "metadata": {},
   "source": [
    "# The Discounted Future Earnings (DFE) model\n",
    "\n",
    "This Notebook will be used for calculating the Discounted Future Earnings (DFE) model as described in the Medium Post [Sure you know the stock price. But do you know its value?](https://medium.com/@sankha.mukherjee_007/sure-you-know-the-stock-price-but-do-you-know-its-value-65ab44dadd04) in Section 4.1. There are many versions of this model, and this implementation here is one of the more simpler implementations of the DFE model. \n",
    "\n",
    "This implementation will be as close as possible to the original article so that one is able to easily follow the original article and this one."
   ]
  },
  {
   "cell_type": "code",
   "execution_count": 1,
   "metadata": {
    "ExecuteTime": {
     "end_time": "2020-08-22T09:10:40.388000Z",
     "start_time": "2020-08-22T09:10:39.942308Z"
    }
   },
   "outputs": [],
   "source": [
    "import financeMacroFactors as fM\n",
    "import pandas as pd\n",
    "import numpy as np\n",
    "from scipy import interpolate\n",
    "from datetime import timedelta as tDel\n",
    "import matplotlib.pyplot as plt"
   ]
  },
  {
   "cell_type": "code",
   "execution_count": 2,
   "metadata": {
    "ExecuteTime": {
     "end_time": "2020-08-22T09:10:50.044149Z",
     "start_time": "2020-08-22T09:10:40.389087Z"
    }
   },
   "outputs": [],
   "source": [
    "fundamentals = fM.companies.getTickerFundamentalDataMW('MSFT')"
   ]
  },
  {
   "cell_type": "markdown",
   "metadata": {},
   "source": [
    "## Find the Earnings Per Share (EPS)\n",
    "\n",
    "The first part is to calculate the EPS vector **e** over the last 5 years. This is converted into a Numpy array `e1`."
   ]
  },
  {
   "cell_type": "code",
   "execution_count": 3,
   "metadata": {
    "ExecuteTime": {
     "end_time": "2020-08-22T09:10:50.048421Z",
     "start_time": "2020-08-22T09:10:50.045251Z"
    }
   },
   "outputs": [
    {
     "name": "stdout",
     "output_type": "stream",
     "text": [
      "--------[Earnings per shaer]------------\n",
      "Years: [2016, 2017, 2018, 2019, 2020]\n",
      "EPS during that time: e1 = [2.1  3.25 2.13 5.06 5.76]\n"
     ]
    }
   ],
   "source": [
    "eps = fM.companies.extractYearlyData(fundamentals['IncomeStatement'], 'EPS (Diluted)')\n",
    "y, e1 = zip(*eps)\n",
    "e1 = np.array(e1)\n",
    "print(f'--------[Earnings per shaer]------------')\n",
    "print(f'Years: {[m.year for m in y]}')\n",
    "print(f'EPS during that time: e1 = {e1}')"
   ]
  },
  {
   "cell_type": "markdown",
   "metadata": {},
   "source": [
    "## Extrapolate so that we can find the EPS for the next 5 years\n",
    "\n",
    "The extrapolation is simple. This assumes that there are 365 days in each year. This may not be the case, but should not affect our calculations significantly, gven the type of approximations that are already involved."
   ]
  },
  {
   "cell_type": "code",
   "execution_count": 4,
   "metadata": {
    "ExecuteTime": {
     "end_time": "2020-08-22T09:10:50.051986Z",
     "start_time": "2020-08-22T09:10:50.049300Z"
    }
   },
   "outputs": [],
   "source": [
    "xVals = [(m-y[0]).days for m in y ]\n",
    "futureYears = [ (y[-1] + tDel(i*365) ) for i in range(1,6)]\n",
    "xExt  = [(m-y[0]).days for m in futureYears ]\n",
    "f = interpolate.interp1d(xVals, e1, fill_value=\"extrapolate\")\n",
    "e = f(xExt)"
   ]
  },
  {
   "cell_type": "code",
   "execution_count": 5,
   "metadata": {
    "ExecuteTime": {
     "end_time": "2020-08-22T09:10:50.178000Z",
     "start_time": "2020-08-22T09:10:50.052942Z"
    }
   },
   "outputs": [
    {
     "data": {
      "image/png": "[encoded data removed]",
      "text/plain": [
       "<Figure size 288x177.998 with 1 Axes>"
      ]
     },
     "metadata": {
      "needs_background": "light"
     },
     "output_type": "display_data"
    }
   ],
   "source": [
    "plt.figure(figsize=(4, 4/1.618))\n",
    "plt.axes([0.1, 0.1, 0.89, 0.89])\n",
    "\n",
    "plt.plot(y, e1, 's', label='known')\n",
    "plt.plot(futureYears, e, 's', label='interpolated')\n",
    "\n",
    "\n",
    "plt.xticks(rotation=30)\n",
    "plt.xlabel('years')\n",
    "plt.ylabel('EPS')\n",
    "plt.legend()\n",
    "\n",
    "plt.show()\n",
    "plt.close('all')"
   ]
  },
  {
   "cell_type": "markdown",
   "metadata": {},
   "source": [
    "## Add the terminal value\n",
    "\n",
    "for the last interpolated value, change it to 10$\\times$ its projexted value"
   ]
  },
  {
   "cell_type": "code",
   "execution_count": 6,
   "metadata": {
    "ExecuteTime": {
     "end_time": "2020-08-22T09:10:50.180525Z",
     "start_time": "2020-08-22T09:10:50.178870Z"
    }
   },
   "outputs": [],
   "source": [
    "e[-1] *= 10"
   ]
  },
  {
   "cell_type": "code",
   "execution_count": 7,
   "metadata": {
    "ExecuteTime": {
     "end_time": "2020-08-22T09:10:50.184006Z",
     "start_time": "2020-08-22T09:10:50.181460Z"
    }
   },
   "outputs": [
    {
     "data": {
      "text/plain": [
       "array([ 6.45808743,  7.15617486,  7.8542623 ,  8.55234973, 92.50437158])"
      ]
     },
     "execution_count": 7,
     "metadata": {},
     "output_type": "execute_result"
    }
   ],
   "source": [
    "e"
   ]
  },
  {
   "cell_type": "markdown",
   "metadata": {},
   "source": [
    "## Generate the discounting factors"
   ]
  },
  {
   "cell_type": "code",
   "execution_count": 8,
   "metadata": {
    "ExecuteTime": {
     "end_time": "2020-08-22T09:10:50.187117Z",
     "start_time": "2020-08-22T09:10:50.185251Z"
    }
   },
   "outputs": [],
   "source": [
    "d = (np.ones(5)*1.1)**np.arange(-1,-6, -1)"
   ]
  },
  {
   "cell_type": "markdown",
   "metadata": {},
   "source": [
    "## Generate the DFE value"
   ]
  },
  {
   "cell_type": "code",
   "execution_count": 9,
   "metadata": {
    "ExecuteTime": {
     "end_time": "2020-08-22T09:10:50.190008Z",
     "start_time": "2020-08-22T09:10:50.188111Z"
    }
   },
   "outputs": [
    {
     "name": "stdout",
     "output_type": "stream",
     "text": [
      "Discounted Future Value = $80.97\n"
     ]
    }
   ],
   "source": [
    "dfe = e @ d\n",
    "print(f'Discounted Future Value = ${dfe:.2f}')"
   ]
  },
  {
   "cell_type": "code",
   "execution_count": null,
   "metadata": {},
   "outputs": [],
   "source": []
  }
 ],
 "metadata": {
  "hide_input": false,
  "kernelspec": {
   "display_name": "Python 3",
   "language": "python",
   "name": "python3"
  },
  "language_info": {
   "codemirror_mode": {
    "name": "ipython",
    "version": 3
   },
   "file_extension": ".py",
   "mimetype": "text/x-python",
   "name": "python",
   "nbconvert_exporter": "python",
   "pygments_lexer": "ipython3",
   "version": "3.8.2"
  },
  "toc": {
   "base_numbering": 1,
   "nav_menu": {},
   "number_sections": true,
   "sideBar": true,
   "skip_h1_title": false,
   "title_cell": "Table of Contents",
   "title_sidebar": "Contents",
   "toc_cell": false,
   "toc_position": {},
   "toc_section_display": true,
   "toc_window_display": false
  }
 },
 "nbformat": 4,
 "nbformat_minor": 4
}
