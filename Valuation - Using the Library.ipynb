{
 "cells": [
  {
   "cell_type": "code",
   "execution_count": 1,
   "metadata": {
    "ExecuteTime": {
     "end_time": "2020-08-24T15:27:15.402617Z",
     "start_time": "2020-08-24T15:27:15.061516Z"
    }
   },
   "outputs": [],
   "source": [
    "import financeMacroFactors as fM\n",
    "import numpy as np\n",
    "import pandas as pd\n",
    "from datetime import datetime as dt, timedelta as tDel\n",
    "from pprint import pprint"
   ]
  },
  {
   "cell_type": "markdown",
   "metadata": {},
   "source": [
    "# Company Valuation\n",
    "\n",
    "The library also provides functions that will allow you to get all the company valuations directly without having to remember all the valuation methodologies. Just supply the required data, and this valuation library method will help you calculate the valuations for you.\n",
    "\n",
    "## First download all fundamental data"
   ]
  },
  {
   "cell_type": "code",
   "execution_count": 2,
   "metadata": {
    "ExecuteTime": {
     "end_time": "2020-08-24T15:27:23.172968Z",
     "start_time": "2020-08-24T15:27:15.403794Z"
    }
   },
   "outputs": [],
   "source": [
    "fundamentals = fM.companies.getTickerFundamentalDataMW('MSFT')\n"
   ]
  },
  {
   "cell_type": "code",
   "execution_count": 3,
   "metadata": {
    "ExecuteTime": {
     "end_time": "2020-08-24T15:27:23.179422Z",
     "start_time": "2020-08-24T15:27:23.174230Z"
    }
   },
   "outputs": [
    {
     "name": "stdout",
     "output_type": "stream",
     "text": [
      "{'eps': array([2.1 , 3.25, 2.13, 5.06, 5.76]),\n",
      " 'fcf': array([2.498e+10, 3.138e+10, 3.225e+10, 3.826e+10, 4.523e+10]),\n",
      " 'revenue': array([8.4700e+10, 9.6020e+10, 1.1018e+11, 1.2550e+11, 1.4302e+11]),\n",
      " 'shares': array([8.01e+09, 7.83e+09, 7.79e+09, 7.75e+09, 7.68e+09])}\n",
      "(datetime.datetime(2016, 6, 30, 0, 0),\n",
      " datetime.datetime(2017, 6, 30, 0, 0),\n",
      " datetime.datetime(2018, 6, 30, 0, 0),\n",
      " datetime.datetime(2019, 6, 30, 0, 0),\n",
      " datetime.datetime(2020, 6, 30, 0, 0))\n"
     ]
    }
   ],
   "source": [
    "\n",
    "toDownload = [\n",
    "    ['eps',     'IncomeStatement', 'EPS (Diluted)' ],\n",
    "    ['fcf',     'CashFlow',        'Free Cash Flow'],\n",
    "    ['shares',  'IncomeStatement', 'Diluted Shares Outstanding'],\n",
    "    ['revenue', 'IncomeStatement', 'Sales/Revenue'],\n",
    "]\n",
    "\n",
    "data = {}\n",
    "dates = None\n",
    "for key, statement, value in toDownload:\n",
    "    tempData = fM.companies.extractYearlyData( \n",
    "                    fundamentals[statement], value)\n",
    "\n",
    "    dates, t = zip(*tempData)\n",
    "    data[key] = np.array(t)\n",
    "\n",
    "pprint(data)\n",
    "pprint(dates)"
   ]
  },
  {
   "cell_type": "markdown",
   "metadata": {},
   "source": [
    "## Then Download all Pricing Data\n",
    "\n",
    "This is already described in all the previous examples, so we shall not explain everything here anymore."
   ]
  },
  {
   "cell_type": "code",
   "execution_count": 4,
   "metadata": {
    "ExecuteTime": {
     "end_time": "2020-08-24T15:27:23.496123Z",
     "start_time": "2020-08-24T15:27:23.180359Z"
    }
   },
   "outputs": [
    {
     "name": "stdout",
     "output_type": "stream",
     "text": [
      "Share Price over the same period = [ 52.6   69.15 102.87 134.29 204.52]\n"
     ]
    }
   ],
   "source": [
    "stockPrice = fM.companies.yahooData.getStockDataYahoo(\n",
    "                    'msft', dates[0]-tDel(90), dt.now(), '1mo')\n",
    "\n",
    "stockPrice = stockPrice[1:]\n",
    "price = np.array([m[-2] for m in stockPrice if ((m[0]-tDel(1)) in dates)])\n",
    "price = price[::-1]\n",
    "print(f'Share Price over the same period = {price}')"
   ]
  },
  {
   "cell_type": "code",
   "execution_count": 5,
   "metadata": {
    "ExecuteTime": {
     "end_time": "2020-08-24T15:27:23.501818Z",
     "start_time": "2020-08-24T15:27:23.497186Z"
    }
   },
   "outputs": [
    {
     "name": "stdout",
     "output_type": "stream",
     "text": [
      "\n",
      "Valuation Method:\n",
      "    1. Discounted Future Earnings: USD  81.04\n",
      "    2.       Discounted Cash Flow: USD  92.00\n",
      "    3.          Price/Sales Ratio: USD 138.41\n",
      "    4.         Price/Equity Ratio: USD 180.48\n",
      "\n"
     ]
    }
   ],
   "source": [
    "dfe  = fM.valuation.discountedFutureEarnings( data['eps']                            )\n",
    "dcf  = fM.valuation.discountedCashFlow(       data['fcf'],     data['shares']        )\n",
    "p_s  = fM.valuation.priceToSalesRatio(        data['revenue'], data['shares'], price )\n",
    "p_e  = fM.valuation.priceToEarningsRatio(     data['eps'],     price                 )\n",
    "\n",
    "print(f'''\n",
    "Valuation Method:\n",
    "    1. Discounted Future Earnings: USD {dfe:6.2f}\n",
    "    2.       Discounted Cash Flow: USD {dcf:6.2f}\n",
    "    3.          Price/Sales Ratio: USD {p_s:6.2f}\n",
    "    4.         Price/Equity Ratio: USD {p_e:6.2f}\n",
    "''')"
   ]
  },
  {
   "cell_type": "code",
   "execution_count": null,
   "metadata": {},
   "outputs": [],
   "source": []
  }
 ],
 "metadata": {
  "hide_input": false,
  "kernelspec": {
   "display_name": "Python 3",
   "language": "python",
   "name": "python3"
  },
  "language_info": {
   "codemirror_mode": {
    "name": "ipython",
    "version": 3
   },
   "file_extension": ".py",
   "mimetype": "text/x-python",
   "name": "python",
   "nbconvert_exporter": "python",
   "pygments_lexer": "ipython3",
   "version": "3.8.2"
  },
  "toc": {
   "base_numbering": 1,
   "nav_menu": {},
   "number_sections": true,
   "sideBar": true,
   "skip_h1_title": false,
   "title_cell": "Table of Contents",
   "title_sidebar": "Contents",
   "toc_cell": false,
   "toc_position": {},
   "toc_section_display": true,
   "toc_window_display": false
  }
 },
 "nbformat": 4,
 "nbformat_minor": 4
}
