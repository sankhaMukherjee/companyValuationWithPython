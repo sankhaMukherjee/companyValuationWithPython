{
 "cells": [
  {
   "cell_type": "markdown",
   "metadata": {},
   "source": [
    "# The Price to Sales Ratio (P/S) model\n",
    "\n",
    "This Notebook will be used for calculating the Price to Sales (P/S) model as described in the Medium Post [Sure you know the stock price. But do you know its value?](https://medium.com/@sankha.mukherjee_007/sure-you-know-the-stock-price-but-do-you-know-its-value-65ab44dadd04) in Section 4.3. \n",
    "\n",
    "This implementation will be as close as possible to the original article so that one is able to easily follow the original article and this one."
   ]
  },
  {
   "cell_type": "code",
   "execution_count": 1,
   "metadata": {
    "ExecuteTime": {
     "end_time": "2020-08-23T04:47:23.497216Z",
     "start_time": "2020-08-23T04:47:23.054789Z"
    }
   },
   "outputs": [],
   "source": [
    "import financeMacroFactors as fM\n",
    "import pandas as pd\n",
    "import numpy as np\n",
    "from scipy import interpolate\n",
    "from datetime import datetime as dt\n",
    "from datetime import timedelta as tDel\n",
    "import matplotlib.pyplot as plt"
   ]
  },
  {
   "cell_type": "code",
   "execution_count": 2,
   "metadata": {
    "ExecuteTime": {
     "end_time": "2020-08-23T04:47:30.874326Z",
     "start_time": "2020-08-23T04:47:23.498444Z"
    }
   },
   "outputs": [],
   "source": [
    "fundamentals = fM.companies.getTickerFundamentalDataMW('MSFT')"
   ]
  },
  {
   "cell_type": "markdown",
   "metadata": {},
   "source": [
    "## Download & Calculate Fundamental Data\n",
    "\n",
    "Before we do the calculations, we should download and calculate the fundamental data that we need. Here as well, we shall follow the article as closely as possible.\n",
    "\n",
    "### Download the revenue\n",
    "\n",
    "The revenue $\\mathbf{r}$ will be placed in the Python variable `p`:"
   ]
  },
  {
   "cell_type": "code",
   "execution_count": 3,
   "metadata": {
    "ExecuteTime": {
     "end_time": "2020-08-23T04:47:30.878687Z",
     "start_time": "2020-08-23T04:47:30.875628Z"
    }
   },
   "outputs": [
    {
     "name": "stdout",
     "output_type": "stream",
     "text": [
      "--------[Revenue]------------\n",
      "Years: [2016, 2017, 2018, 2019, 2020]\n",
      "Revenue during that time: r = [8.4700e+10 9.6020e+10 1.1018e+11 1.2550e+11 1.4302e+11]\n"
     ]
    }
   ],
   "source": [
    "revenue = fM.companies.extractYearlyData(fundamentals['IncomeStatement'], 'Sales/Revenue')\n",
    "y, r = zip(*revenue)\n",
    "r = np.array(r)\n",
    "print(f'--------[Revenue]------------')\n",
    "print(f'Years: {[m.year for m in y]}')\n",
    "print(f'Revenue during that time: r = {r}')"
   ]
  },
  {
   "cell_type": "markdown",
   "metadata": {},
   "source": [
    "### Download the total number of outstanding shares\n",
    "\n",
    "The total number of outstanding shares $\\mathbf{s}$ is placed in the python variable `s`:"
   ]
  },
  {
   "cell_type": "code",
   "execution_count": 4,
   "metadata": {
    "ExecuteTime": {
     "end_time": "2020-08-23T04:47:30.882634Z",
     "start_time": "2020-08-23T04:47:30.879751Z"
    }
   },
   "outputs": [
    {
     "name": "stdout",
     "output_type": "stream",
     "text": [
      "--------[Diluted shares Outstanding]------------\n",
      "Years: [2016, 2017, 2018, 2019, 2020]\n",
      "Diluted shares outstanding: s = [8.01e+09 7.83e+09 7.79e+09 7.75e+09 7.68e+09]\n"
     ]
    }
   ],
   "source": [
    "shares = fM.companies.extractYearlyData(fundamentals['IncomeStatement'], 'Diluted Shares Outstanding')\n",
    "shares\n",
    "ya, s = zip(*shares)\n",
    "s = np.array(s)\n",
    "print(f'--------[Diluted shares Outstanding]------------')\n",
    "print(f'Years: {[m.year for m in ya]}')\n",
    "print(f'Diluted shares outstanding: s = {s}')"
   ]
  },
  {
   "cell_type": "markdown",
   "metadata": {},
   "source": [
    "### Download the stock price \n",
    "\n",
    "The stock proce $\\mathbf{s}$ is placed in the python variable `p`. Note that the stock proce has two properties that one needs to take care of:\n",
    "\n",
    "1. Monthly-averaged stock price is averaged on the first of the month, while the fundamental data is available at the end of the month. For this reason, the share price will have to be typically shifted by a day to match the dates of the fundamental data. The averaged stock price data is for the first of the *next month*.\n",
    "2. The stock data is arranged such that the dates are descending, while the fundamental data is arranged such that the dates are ascending. To fix this problem. the stock data is reversed.\n"
   ]
  },
  {
   "cell_type": "code",
   "execution_count": 5,
   "metadata": {
    "ExecuteTime": {
     "end_time": "2020-08-23T04:47:31.496488Z",
     "start_time": "2020-08-23T04:47:30.883673Z"
    }
   },
   "outputs": [],
   "source": [
    "stockPrice = fM.companies.yahooData.getStockDataYahoo('msft', y[0]-tDel(90), dt.now(), '1mo')"
   ]
  },
  {
   "cell_type": "code",
   "execution_count": 6,
   "metadata": {
    "ExecuteTime": {
     "end_time": "2020-08-23T04:47:31.500355Z",
     "start_time": "2020-08-23T04:47:31.497416Z"
    }
   },
   "outputs": [
    {
     "name": "stdout",
     "output_type": "stream",
     "text": [
      "Stock Price over the same period = [ 52.6   69.15 102.87 134.29 204.52]\n"
     ]
    }
   ],
   "source": [
    "stockPrice = stockPrice[1:]\n",
    "p = np.array([m[-2] for m in stockPrice if ((m[0]-tDel(1)) in y)])\n",
    "p = p[::-1]\n",
    "print(f'Stock Price over the same period = {p}')"
   ]
  },
  {
   "cell_type": "markdown",
   "metadata": {},
   "source": [
    "## Calculate the P/S Ratio\n",
    "\n",
    "This is the stock price ($\\mathbf{p}$) divided by the revenue/stock ( $\\mathbf r$/$\\mathbf s$ ). Note that all operations are element-wise operations. From this point on, there are only two more operations to perform:\n",
    "\n",
    "### Calculate the P/S ratio over the last few years\n"
   ]
  },
  {
   "cell_type": "code",
   "execution_count": 7,
   "metadata": {
    "ExecuteTime": {
     "end_time": "2020-08-23T04:47:31.504768Z",
     "start_time": "2020-08-23T04:47:31.501355Z"
    }
   },
   "outputs": [
    {
     "data": {
      "text/plain": [
       "array([ 4.97433294,  5.63887211,  7.27316482,  8.29280876, 10.98247518])"
      ]
     },
     "execution_count": 7,
     "metadata": {},
     "output_type": "execute_result"
    }
   ],
   "source": [
    "ps = p*s/r\n",
    "ps"
   ]
  },
  {
   "cell_type": "markdown",
   "metadata": {},
   "source": [
    "### Use the average P/S ratio to claculate the P/S valuation"
   ]
  },
  {
   "cell_type": "code",
   "execution_count": 8,
   "metadata": {
    "ExecuteTime": {
     "end_time": "2020-08-23T04:47:31.509431Z",
     "start_time": "2020-08-23T04:47:31.506610Z"
    }
   },
   "outputs": [
    {
     "data": {
      "text/plain": [
       "138.40780542987875"
      ]
     },
     "execution_count": 8,
     "metadata": {},
     "output_type": "execute_result"
    }
   ],
   "source": [
    "ps.mean()*((r/s)[-1])"
   ]
  },
  {
   "cell_type": "code",
   "execution_count": null,
   "metadata": {},
   "outputs": [],
   "source": []
  }
 ],
 "metadata": {
  "hide_input": false,
  "kernelspec": {
   "display_name": "Python 3",
   "language": "python",
   "name": "python3"
  },
  "language_info": {
   "codemirror_mode": {
    "name": "ipython",
    "version": 3
   },
   "file_extension": ".py",
   "mimetype": "text/x-python",
   "name": "python",
   "nbconvert_exporter": "python",
   "pygments_lexer": "ipython3",
   "version": "3.8.2"
  },
  "toc": {
   "base_numbering": 1,
   "nav_menu": {},
   "number_sections": true,
   "sideBar": true,
   "skip_h1_title": false,
   "title_cell": "Table of Contents",
   "title_sidebar": "Contents",
   "toc_cell": false,
   "toc_position": {},
   "toc_section_display": true,
   "toc_window_display": false
  }
 },
 "nbformat": 4,
 "nbformat_minor": 4
}
